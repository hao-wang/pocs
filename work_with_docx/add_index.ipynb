{
 "cells": [
  {
   "cell_type": "code",
   "execution_count": 1,
   "metadata": {},
   "outputs": [],
   "source": [
    "import re\n",
    "\n",
    "with open('cisa2018_new.txt', 'w') as c2_new:\n",
    "    last_line_empty = False\n",
    "    idx = 1\n",
    "    answers = []\n",
    "    with open('cisa2018.txt', 'r') as c2:\n",
    "        for il, line in enumerate(c2):\n",
    "            print(line)\n",
    "                    \n",
    "            # result = re.match(pattern, string)\n",
    "            pattern = re.compile('[（(]\\s?[ABCD]+\\s?[）)]')\n",
    "            all_items = pattern.findall(line)\n",
    "            new_line = re.sub(pattern, '__', line)\n",
    "            if last_line_empty and ('__' in new_line):\n",
    "                new_line = str(idx) + '. ' + new_line\n",
    "                answers.append(str(idx)+'-'+all_items[0])\n",
    "                idx += 1\n",
    "            \n",
    "            c2_new.write(new_line)\n",
    "            \n",
    "            if line == '\\n':\n",
    "                last_line_empty = True\n",
    "            else: \n",
    "                last_line_empty = False\n",
    "                \n",
    "    c2_new.write('\\n'*3)\n",
    "    for ans in answers:\n",
    "        c2_new.write(ans+'\\n')"
   ]
  },
  {
   "cell_type": "code",
   "execution_count": null,
   "metadata": {},
   "outputs": [],
   "source": []
  }
 ],
 "metadata": {
  "kernelspec": {
   "display_name": "Python [conda env:ASR] *",
   "language": "python",
   "name": "conda-env-ASR-py"
  },
  "language_info": {
   "codemirror_mode": {
    "name": "ipython",
    "version": 3
   },
   "file_extension": ".py",
   "mimetype": "text/x-python",
   "name": "python",
   "nbconvert_exporter": "python",
   "pygments_lexer": "ipython3",
   "version": "3.7.6"
  }
 },
 "nbformat": 4,
 "nbformat_minor": 4
}
